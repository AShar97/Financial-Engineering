{
 "cells": [
  {
   "cell_type": "code",
   "execution_count": 1,
   "metadata": {},
   "outputs": [],
   "source": [
    "import numpy as np\n",
    "import matplotlib.pyplot as plt"
   ]
  },
  {
   "cell_type": "code",
   "execution_count": 2,
   "metadata": {},
   "outputs": [],
   "source": [
    "M = np.array([0.1, 0.2, 0.15]).reshape(3,1)"
   ]
  },
  {
   "cell_type": "code",
   "execution_count": 3,
   "metadata": {},
   "outputs": [],
   "source": [
    "#M.shape"
   ]
  },
  {
   "cell_type": "code",
   "execution_count": 4,
   "metadata": {},
   "outputs": [
    {
     "data": {
      "text/plain": [
       "array([[0.1 ],\n",
       "       [0.2 ],\n",
       "       [0.15]])"
      ]
     },
     "execution_count": 4,
     "metadata": {},
     "output_type": "execute_result"
    }
   ],
   "source": [
    "M"
   ]
  },
  {
   "cell_type": "code",
   "execution_count": 5,
   "metadata": {},
   "outputs": [],
   "source": [
    "C = np.array([[0.005, -0.010, 0.004],\n",
    "              [-0.010, 0.040, -0.002],\n",
    "              [0.004, -0.002, 0.023]])"
   ]
  },
  {
   "cell_type": "code",
   "execution_count": 6,
   "metadata": {},
   "outputs": [],
   "source": [
    "#C.shape"
   ]
  },
  {
   "cell_type": "code",
   "execution_count": 7,
   "metadata": {},
   "outputs": [
    {
     "data": {
      "text/plain": [
       "array([[ 0.005, -0.01 ,  0.004],\n",
       "       [-0.01 ,  0.04 , -0.002],\n",
       "       [ 0.004, -0.002,  0.023]])"
      ]
     },
     "execution_count": 7,
     "metadata": {},
     "output_type": "execute_result"
    }
   ],
   "source": [
    "C"
   ]
  },
  {
   "cell_type": "code",
   "execution_count": 8,
   "metadata": {},
   "outputs": [],
   "source": [
    "#M.T.shape"
   ]
  },
  {
   "cell_type": "code",
   "execution_count": 9,
   "metadata": {},
   "outputs": [],
   "source": [
    "unity = np.ones(M.shape[0]).reshape(M.shape[0],1)"
   ]
  },
  {
   "cell_type": "code",
   "execution_count": 10,
   "metadata": {},
   "outputs": [],
   "source": [
    "#unity.shape"
   ]
  },
  {
   "cell_type": "code",
   "execution_count": 11,
   "metadata": {},
   "outputs": [],
   "source": [
    "mu_v = np.arange(-.1,.3, 0.001)\n",
    "mu_v = mu_v.reshape(mu_v.shape[0], 1)"
   ]
  },
  {
   "cell_type": "code",
   "execution_count": 12,
   "metadata": {},
   "outputs": [],
   "source": [
    "#mu_v.shape"
   ]
  },
  {
   "cell_type": "code",
   "execution_count": 13,
   "metadata": {},
   "outputs": [],
   "source": [
    "a = np.dot(np.dot(unity.T,np.linalg.inv(C)),unity)[0,0]\n",
    "b = np.dot(np.dot(unity.T,np.linalg.inv(C)),M)[0,0]\n",
    "c = np.dot(np.dot(M.T,np.linalg.inv(C)),M)[0,0]\n",
    "Del = (a*c) - (b**2)\n",
    "\n",
    "var = (((a*(mu_v**2)) - (2*b*mu_v) + c)/Del)\n",
    "\n",
    "sigma_v = np.sqrt(var)"
   ]
  },
  {
   "cell_type": "code",
   "execution_count": 14,
   "metadata": {},
   "outputs": [],
   "source": [
    "#sigma_v.shape"
   ]
  },
  {
   "cell_type": "code",
   "execution_count": 15,
   "metadata": {},
   "outputs": [],
   "source": [
    "l1 = (c - b*mu_v)/Del\n",
    "l2 = (a*mu_v - b)/Del\n",
    "\n",
    "W = np.dot(np.linalg.inv(C),(unity*l1.T + M*l2.T)).T"
   ]
  },
  {
   "cell_type": "code",
   "execution_count": 16,
   "metadata": {
    "scrolled": true
   },
   "outputs": [],
   "source": [
    "#W[range(101,301,20),:].shape"
   ]
  },
  {
   "cell_type": "code",
   "execution_count": 17,
   "metadata": {},
   "outputs": [
    {
     "data": {
      "text/plain": [
       "array([[ 2.53614679, -0.44385321, -1.09229358],\n",
       "       [ 2.24990826, -0.33009174, -0.91981651],\n",
       "       [ 1.96366972, -0.21633028, -0.74733945],\n",
       "       [ 1.67743119, -0.10256881, -0.57486239],\n",
       "       [ 1.39119266,  0.01119266, -0.40238532],\n",
       "       [ 1.10495413,  0.12495413, -0.22990826],\n",
       "       [ 0.8187156 ,  0.2387156 , -0.05743119],\n",
       "       [ 0.53247706,  0.35247706,  0.11504587],\n",
       "       [ 0.24623853,  0.46623853,  0.28752294],\n",
       "       [-0.04      ,  0.58      ,  0.46      ]])"
      ]
     },
     "execution_count": 17,
     "metadata": {},
     "output_type": "execute_result"
    }
   ],
   "source": [
    "W[range(101,301,20),:]"
   ]
  },
  {
   "cell_type": "code",
   "execution_count": 18,
   "metadata": {},
   "outputs": [
    {
     "name": "stdout",
     "output_type": "stream",
     "text": [
      "W\n",
      " [[ 2.53614679 -0.44385321 -1.09229358]\n",
      " [ 2.24990826 -0.33009174 -0.91981651]\n",
      " [ 1.96366972 -0.21633028 -0.74733945]\n",
      " [ 1.67743119 -0.10256881 -0.57486239]\n",
      " [ 1.39119266  0.01119266 -0.40238532]\n",
      " [ 1.10495413  0.12495413 -0.22990826]\n",
      " [ 0.8187156   0.2387156  -0.05743119]\n",
      " [ 0.53247706  0.35247706  0.11504587]\n",
      " [ 0.24623853  0.46623853  0.28752294]\n",
      " [-0.04        0.58        0.46      ]]\n",
      "mu_v\n",
      " [[0.001]\n",
      " [0.021]\n",
      " [0.041]\n",
      " [0.061]\n",
      " [0.081]\n",
      " [0.101]\n",
      " [0.121]\n",
      " [0.141]\n",
      " [0.161]\n",
      " [0.181]]\n",
      "sigma_v\n",
      " [[0.25669901]\n",
      " [0.21496814]\n",
      " [0.17351349]\n",
      " [0.13259442]\n",
      " [0.09292118]\n",
      " [0.05715002]\n",
      " [0.03842682]\n",
      " [0.05714745]\n",
      " [0.09291802]\n",
      " [0.1325911 ]]\n"
     ]
    }
   ],
   "source": [
    "print(\"W\\n\",W[range(101,301,20),:])\n",
    "print(\"mu_v\\n\",mu_v[range(101,301,20),:])\n",
    "print(\"sigma_v\\n\",sigma_v[range(101,301,20),:])"
   ]
  },
  {
   "cell_type": "code",
   "execution_count": 19,
   "metadata": {},
   "outputs": [],
   "source": [
    "risk = 0.15\n",
    "mu_h = (2*b + ((4*(b**2) - 4*a*(c - Del*(risk**2)))**0.5))/(2*a)\n",
    "mu_l = (2*b - ((4*(b**2) - 4*a*(c - Del*(risk**2)))**0.5))/(2*a)"
   ]
  },
  {
   "cell_type": "code",
   "execution_count": 20,
   "metadata": {},
   "outputs": [
    {
     "data": {
      "text/plain": [
       "0.18955479960806604"
      ]
     },
     "execution_count": 20,
     "metadata": {},
     "output_type": "execute_result"
    }
   ],
   "source": [
    "mu_h"
   ]
  },
  {
   "cell_type": "code",
   "execution_count": 21,
   "metadata": {},
   "outputs": [
    {
     "data": {
      "text/plain": [
       "0.052446841081023425"
      ]
     },
     "execution_count": 21,
     "metadata": {},
     "output_type": "execute_result"
    }
   ],
   "source": [
    "mu_l"
   ]
  },
  {
   "cell_type": "code",
   "execution_count": 22,
   "metadata": {},
   "outputs": [],
   "source": [
    "l1_h = (c - b*mu_h)/Del\n",
    "l2_h = (a*mu_h - b)/Del\n",
    "\n",
    "W_h = np.dot(np.linalg.inv(C),(unity*l1_h.T + M*l2_h.T)).T\n",
    "\n",
    "l1_l = (c - b*mu_l)/Del\n",
    "l2_l = (a*mu_l - b)/Del\n",
    "\n",
    "W_l = np.dot(np.linalg.inv(C),(unity*l1_l.T + M*l2_l.T)).T"
   ]
  },
  {
   "cell_type": "code",
   "execution_count": 23,
   "metadata": {},
   "outputs": [
    {
     "data": {
      "text/plain": [
       "array([[-0.16243566,  0.62866033,  0.53377534]])"
      ]
     },
     "execution_count": 23,
     "metadata": {},
     "output_type": "execute_result"
    }
   ],
   "source": [
    "W_h"
   ]
  },
  {
   "cell_type": "code",
   "execution_count": 24,
   "metadata": {},
   "outputs": [
    {
     "data": {
      "text/plain": [
       "array([[ 1.79984338, -0.1512198 , -0.64862357]])"
      ]
     },
     "execution_count": 24,
     "metadata": {},
     "output_type": "execute_result"
    }
   ],
   "source": [
    "W_l"
   ]
  },
  {
   "cell_type": "code",
   "execution_count": null,
   "metadata": {},
   "outputs": [],
   "source": []
  },
  {
   "cell_type": "code",
   "execution_count": 25,
   "metadata": {},
   "outputs": [
    {
     "data": {
      "text/plain": [
       "array([[-0.02568807,  0.57431193,  0.45137615]])"
      ]
     },
     "execution_count": 25,
     "metadata": {},
     "output_type": "execute_result"
    }
   ],
   "source": [
    "mu_p = 0.18\n",
    "\n",
    "l1_p = (c - b*mu_p)/Del\n",
    "l2_p = (a*mu_p - b)/Del\n",
    "\n",
    "W_p = np.dot(np.linalg.inv(C),(unity*l1_p.T + M*l2_p.T)).T\n",
    "W_p"
   ]
  },
  {
   "cell_type": "code",
   "execution_count": 26,
   "metadata": {},
   "outputs": [
    {
     "data": {
      "text/plain": [
       "array([[0.59375 , 0.328125, 0.078125]])"
      ]
     },
     "execution_count": 26,
     "metadata": {},
     "output_type": "execute_result"
    }
   ],
   "source": [
    "rf = 0.1\n",
    "gammaW_m = np.dot((M - rf*unity).T,np.linalg.inv(C))\n",
    "W_m = gammaW_m/np.sum(gammaW_m)\n",
    "W_m"
   ]
  },
  {
   "cell_type": "code",
   "execution_count": 27,
   "metadata": {},
   "outputs": [],
   "source": [
    "mu_m = np.dot(W_m, M)[0,0]\n",
    "sigma_m = np.sqrt(np.dot(np.dot(W_m, C),W_m.T))[0,0]"
   ]
  },
  {
   "cell_type": "code",
   "execution_count": 28,
   "metadata": {},
   "outputs": [],
   "source": [
    "sigma_cml = np.arange(0, 0.2, 0.001)\n",
    "sigma_cml = sigma_cml.reshape(sigma_cml.shape[0],1)\n",
    "\n",
    "mu_cml = rf + ((mu_m-rf)/sigma_m)*sigma_cml"
   ]
  },
  {
   "cell_type": "code",
   "execution_count": 32,
   "metadata": {},
   "outputs": [
    {
     "data": {
      "image/png": "[encoded data removed]",
      "text/plain": [
       "<matplotlib.figure.Figure at 0x10abf4d68>"
      ]
     },
     "metadata": {},
     "output_type": "display_data"
    }
   ],
   "source": [
    "plt.plot(np.sqrt(np.diag(C)),M, '*')\n",
    "plt.plot(sigma_v, mu_v)\n",
    "plt.plot(np.full((sigma_v.shape), 0.15), mu_v)\n",
    "plt.plot(sigma_v, np.full((mu_v.shape), 0.18))\n",
    "plt.plot(sigma_m,mu_m, '*')\n",
    "plt.plot(0,rf, '*')\n",
    "plt.plot(sigma_cml,mu_cml)\n",
    "plt.title(\"Portfolio Management\")\n",
    "plt.xlabel(\"Risk (Standard Deviation)\")\n",
    "plt.ylabel(\"Return (Mean)\")\n",
    "\n",
    "plt.legend([\"Assets\",\"Markowitz efficient frontier\", \"15% risk\", \"18% return\", \"Market portfolio\", \"Risk-free security\", \"Capital Market Line\"])\n",
    "plt.show()"
   ]
  },
  {
   "cell_type": "code",
   "execution_count": 33,
   "metadata": {},
   "outputs": [],
   "source": [
    "sigma1 = 0.1\n",
    "sigma2 = 0.25\n",
    "\n",
    "#mu1 = rf + ((mu_m-rf)/sigma_m)*sigma1\n",
    "#mu2 = rf + ((mu_m-rf)/sigma_m)*sigma2\n",
    "\n",
    "#r = k*rf + (1-k)*mu_m\n",
    "#s = k*0 + (1-k)*sigma_m\n",
    "\n",
    "k1 = 1 - (sigma1/sigma_m)\n",
    "W1 = W_m*(1-k1)\n",
    "\n",
    "k2 = 1 - (sigma2/sigma_m)\n",
    "W2 = W_m*(1-k2)"
   ]
  },
  {
   "cell_type": "code",
   "execution_count": 34,
   "metadata": {},
   "outputs": [
    {
     "data": {
      "text/plain": [
       "-0.968066577128289"
      ]
     },
     "execution_count": 34,
     "metadata": {},
     "output_type": "execute_result"
    }
   ],
   "source": [
    "k1"
   ]
  },
  {
   "cell_type": "code",
   "execution_count": 35,
   "metadata": {},
   "outputs": [
    {
     "data": {
      "text/plain": [
       "array([[1.16853953, 0.64577185, 0.1537552 ]])"
      ]
     },
     "execution_count": 35,
     "metadata": {},
     "output_type": "execute_result"
    }
   ],
   "source": [
    "W1"
   ]
  },
  {
   "cell_type": "code",
   "execution_count": 36,
   "metadata": {},
   "outputs": [
    {
     "data": {
      "text/plain": [
       "-3.9201664428207224"
      ]
     },
     "execution_count": 36,
     "metadata": {},
     "output_type": "execute_result"
    }
   ],
   "source": [
    "k2"
   ]
  },
  {
   "cell_type": "code",
   "execution_count": 37,
   "metadata": {},
   "outputs": [
    {
     "data": {
      "text/plain": [
       "array([[2.92134883, 1.61442961, 0.384388  ]])"
      ]
     },
     "execution_count": 37,
     "metadata": {},
     "output_type": "execute_result"
    }
   ],
   "source": [
    "W2"
   ]
  },
  {
   "cell_type": "code",
   "execution_count": null,
   "metadata": {},
   "outputs": [],
   "source": []
  },
  {
   "cell_type": "code",
   "execution_count": 39,
   "metadata": {},
   "outputs": [],
   "source": [
    "### Self indulgence part."
   ]
  },
  {
   "cell_type": "code",
   "execution_count": null,
   "metadata": {},
   "outputs": [],
   "source": []
  },
  {
   "cell_type": "code",
   "execution_count": 72,
   "metadata": {},
   "outputs": [],
   "source": [
    "import mpl_toolkits.mplot3d"
   ]
  },
  {
   "cell_type": "code",
   "execution_count": 73,
   "metadata": {},
   "outputs": [
    {
     "data": {
      "text/plain": [
       "(400,)"
      ]
     },
     "execution_count": 73,
     "metadata": {},
     "output_type": "execute_result"
    }
   ],
   "source": [
    "W[:,0].shape"
   ]
  },
  {
   "cell_type": "code",
   "execution_count": 74,
   "metadata": {},
   "outputs": [
    {
     "data": {
      "text/plain": [
       "[<mpl_toolkits.mplot3d.art3d.Line3D at 0x10ab07208>]"
      ]
     },
     "execution_count": 74,
     "metadata": {},
     "output_type": "execute_result"
    },
    {
     "data": {
      "image/png": "[encoded data removed]",
      "text/plain": [
       "<matplotlib.figure.Figure at 0x10b6ab080>"
      ]
     },
     "metadata": {},
     "output_type": "display_data"
    }
   ],
   "source": [
    "fig = plt.figure()\n",
    "ax = plt.axes(projection='3d')\n",
    "ax.plot3D(W[:,0], W[:,1], W[:,2])"
   ]
  },
  {
   "cell_type": "code",
   "execution_count": 75,
   "metadata": {},
   "outputs": [
    {
     "data": {
      "image/png": "[encoded data removed]",
      "text/plain": [
       "<matplotlib.figure.Figure at 0x10b6abeb8>"
      ]
     },
     "metadata": {},
     "output_type": "display_data"
    }
   ],
   "source": [
    "plt.plot(W[:,0], W[:,1])\n",
    "plt.plot(W[:,0], W[:,2])\n",
    "plt.plot(W[:,1], W[:,2])\n",
    "plt.legend([\"0-1\",\"0-2\",\"1-2\"])\n",
    "plt.show()"
   ]
  },
  {
   "cell_type": "code",
   "execution_count": null,
   "metadata": {},
   "outputs": [],
   "source": []
  }
 ],
 "metadata": {
  "kernelspec": {
   "display_name": "Python 3",
   "language": "python",
   "name": "python3"
  },
  "language_info": {
   "codemirror_mode": {
    "name": "ipython",
    "version": 3
   },
   "file_extension": ".py",
   "mimetype": "text/x-python",
   "name": "python",
   "nbconvert_exporter": "python",
   "pygments_lexer": "ipython3",
   "version": "3.6.4"
  }
 },
 "nbformat": 4,
 "nbformat_minor": 2
}
