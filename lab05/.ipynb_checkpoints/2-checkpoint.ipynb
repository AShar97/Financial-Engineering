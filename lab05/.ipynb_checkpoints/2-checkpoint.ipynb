{
 "cells": [
  {
   "cell_type": "code",
   "execution_count": 1,
   "metadata": {},
   "outputs": [],
   "source": [
    "import numpy as np\n",
    "import pandas as pd\n",
    "import matplotlib.pyplot as plt"
   ]
  },
  {
   "cell_type": "code",
   "execution_count": 2,
   "metadata": {},
   "outputs": [
    {
     "name": "stdout",
     "output_type": "stream",
     "text": [
      "Processing data for stock: ^BSESN\n",
      "20% done...\n",
      "40% done...\n",
      "60% done...\n",
      "80% done...\n"
     ]
    },
    {
     "name": "stderr",
     "output_type": "stream",
     "text": [
      "/Users/ayushsharma/anaconda3/lib/python3.6/site-packages/backtester/dataSource/yahoo_data_source.py:182: FutureWarning:\n",
      "\n",
      "set_value is deprecated and will be removed in a future release. Please use .at[] or .iat[] accessors instead\n",
      "\n"
     ]
    }
   ],
   "source": [
    "from backtester.dataSource.yahoo_data_source import YahooStockDataSource\n",
    "\n",
    "startDateStr = '2013/1/1'\n",
    "endDateStr = '2017/12/31'\n",
    "cachedFolderName = '/Users/ayushsharma/Documents/Finance/yahooData/'\n",
    "dataSetId = 'testPairsTrading'\n",
    "\n",
    "instrumentIds = ['^BSESN']\n",
    "ds = YahooStockDataSource(cachedFolderName=cachedFolderName,\n",
    "                            dataSetId=dataSetId,\n",
    "                            instrumentIds=instrumentIds,\n",
    "                            startDateStr=startDateStr,\n",
    "                            endDateStr=endDateStr,\n",
    "                            event='history')\n",
    "bse_sensex_prices = ds.getBookDataByFeature()['Adj Close']"
   ]
  },
  {
   "cell_type": "code",
   "execution_count": 3,
   "metadata": {},
   "outputs": [
    {
     "name": "stdout",
     "output_type": "stream",
     "text": [
      "Processing data for stock: ^NSEI\n"
     ]
    },
    {
     "name": "stderr",
     "output_type": "stream",
     "text": [
      "/Users/ayushsharma/anaconda3/lib/python3.6/site-packages/backtester/dataSource/yahoo_data_source.py:182: FutureWarning:\n",
      "\n",
      "set_value is deprecated and will be removed in a future release. Please use .at[] or .iat[] accessors instead\n",
      "\n"
     ]
    },
    {
     "name": "stdout",
     "output_type": "stream",
     "text": [
      "20% done...\n",
      "40% done...\n",
      "60% done...\n",
      "80% done...\n"
     ]
    }
   ],
   "source": [
    "instrumentIds = ['^NSEI']\n",
    "ds = YahooStockDataSource(cachedFolderName=cachedFolderName,\n",
    "                            dataSetId=dataSetId,\n",
    "                            instrumentIds=instrumentIds,\n",
    "                            startDateStr=startDateStr,\n",
    "                            endDateStr=endDateStr,\n",
    "                            event='history')\n",
    "nse_nifty_prices = ds.getBookDataByFeature()['Adj Close']"
   ]
  },
  {
   "cell_type": "code",
   "execution_count": 4,
   "metadata": {},
   "outputs": [
    {
     "name": "stdout",
     "output_type": "stream",
     "text": [
      "Processing data for stock: SBIN.BO\n",
      "Processing data for stock: TATASTEEL.BO\n",
      "Processing data for stock: LT.BO\n",
      "Processing data for stock: RELIANCE.BO\n",
      "Processing data for stock: INFY.BO\n",
      "Processing data for stock: BHARTIARTL.BO\n",
      "Processing data for stock: TCS.BO\n",
      "Processing data for stock: TATAMOTORS.BO\n",
      "Processing data for stock: SUNPHARMA.BO\n",
      "Processing data for stock: ITC.BO\n"
     ]
    },
    {
     "name": "stderr",
     "output_type": "stream",
     "text": [
      "/Users/ayushsharma/anaconda3/lib/python3.6/site-packages/backtester/dataSource/yahoo_data_source.py:182: FutureWarning:\n",
      "\n",
      "set_value is deprecated and will be removed in a future release. Please use .at[] or .iat[] accessors instead\n",
      "\n"
     ]
    },
    {
     "name": "stdout",
     "output_type": "stream",
     "text": [
      "20% done...\n",
      "40% done...\n",
      "60% done...\n",
      "80% done...\n"
     ]
    }
   ],
   "source": [
    "instrumentIds = ['SBIN.BO','TATASTEEL.BO','LT.BO','RELIANCE.BO','INFY.BO','BHARTIARTL.BO','TCS.BO','TATAMOTORS.BO','SUNPHARMA.BO','ITC.BO']\n",
    "ds = YahooStockDataSource(cachedFolderName=cachedFolderName,\n",
    "                            dataSetId=dataSetId,\n",
    "                            instrumentIds=instrumentIds,\n",
    "                            startDateStr=startDateStr,\n",
    "                            endDateStr=endDateStr,\n",
    "                            event='history')\n",
    "sensex_stock_prices = ds.getBookDataByFeature()['Adj Close']"
   ]
  },
  {
   "cell_type": "code",
   "execution_count": 5,
   "metadata": {},
   "outputs": [
    {
     "name": "stdout",
     "output_type": "stream",
     "text": [
      "Processing data for stock: SBIN.NS\n",
      "Processing data for stock: TATASTEEL.NS\n",
      "Processing data for stock: LT.NS\n",
      "Processing data for stock: RELIANCE.NS\n",
      "Processing data for stock: INFY.NS\n",
      "Processing data for stock: BHARTIARTL.NS\n",
      "Processing data for stock: TCS.NS\n",
      "Processing data for stock: TATAMOTORS.NS\n",
      "Processing data for stock: SUNPHARMA.NS\n",
      "Processing data for stock: ITC.NS\n"
     ]
    },
    {
     "name": "stderr",
     "output_type": "stream",
     "text": [
      "/Users/ayushsharma/anaconda3/lib/python3.6/site-packages/backtester/dataSource/yahoo_data_source.py:182: FutureWarning:\n",
      "\n",
      "set_value is deprecated and will be removed in a future release. Please use .at[] or .iat[] accessors instead\n",
      "\n"
     ]
    },
    {
     "name": "stdout",
     "output_type": "stream",
     "text": [
      "20% done...\n",
      "40% done...\n",
      "60% done...\n",
      "80% done...\n"
     ]
    }
   ],
   "source": [
    "instrumentIds = ['SBIN.NS','TATASTEEL.NS','LT.NS','RELIANCE.NS','INFY.NS','BHARTIARTL.NS','TCS.NS','TATAMOTORS.NS','SUNPHARMA.NS','ITC.NS']\n",
    "ds = YahooStockDataSource(cachedFolderName=cachedFolderName,\n",
    "                            dataSetId=dataSetId,\n",
    "                            instrumentIds=instrumentIds,\n",
    "                            startDateStr=startDateStr,\n",
    "                            endDateStr=endDateStr,\n",
    "                            event='history')\n",
    "nifty_stock_prices = ds.getBookDataByFeature()['Adj Close']"
   ]
  },
  {
   "cell_type": "code",
   "execution_count": 6,
   "metadata": {},
   "outputs": [
    {
     "name": "stdout",
     "output_type": "stream",
     "text": [
      "Processing data for stock: COLPAL.BO\n",
      "Processing data for stock: BRITANNIA.BO\n",
      "Processing data for stock: DLF.BO\n",
      "Processing data for stock: HAVELLS.BO\n",
      "Processing data for stock: DABUR.BO\n",
      "Processing data for stock: HINDZINC.BO\n",
      "Processing data for stock: PIDILITIND.BO\n",
      "Processing data for stock: PGHH.BO\n",
      "Processing data for stock: TATAPOWER.BO\n",
      "Processing data for stock: CUMMINSIND.BO\n"
     ]
    },
    {
     "name": "stderr",
     "output_type": "stream",
     "text": [
      "/Users/ayushsharma/anaconda3/lib/python3.6/site-packages/backtester/dataSource/yahoo_data_source.py:182: FutureWarning:\n",
      "\n",
      "set_value is deprecated and will be removed in a future release. Please use .at[] or .iat[] accessors instead\n",
      "\n"
     ]
    },
    {
     "name": "stdout",
     "output_type": "stream",
     "text": [
      "20% done...\n",
      "40% done...\n",
      "60% done...\n",
      "80% done...\n"
     ]
    }
   ],
   "source": [
    "instrumentIds = ['COLPAL.BO','BRITANNIA.BO','DLF.BO','HAVELLS.BO','DABUR.BO','HINDZINC.BO','PIDILITIND.BO','PGHH.BO','TATAPOWER.BO','CUMMINSIND.BO']\n",
    "ds = YahooStockDataSource(cachedFolderName=cachedFolderName,\n",
    "                            dataSetId=dataSetId,\n",
    "                            instrumentIds=instrumentIds,\n",
    "                            startDateStr=startDateStr,\n",
    "                            endDateStr=endDateStr,\n",
    "                            event='history')\n",
    "non_sensex_stock_prices = ds.getBookDataByFeature()['Adj Close']\n"
   ]
  },
  {
   "cell_type": "code",
   "execution_count": 7,
   "metadata": {},
   "outputs": [
    {
     "name": "stdout",
     "output_type": "stream",
     "text": [
      "Processing data for stock: COLPAL.NS\n",
      "Processing data for stock: BRITANNIA.NS\n",
      "Processing data for stock: DLF.NS\n",
      "Processing data for stock: HAVELLS.NS\n",
      "Processing data for stock: DABUR.NS\n",
      "Processing data for stock: HINDZINC.NS\n",
      "Processing data for stock: PIDILITIND.NS\n",
      "Processing data for stock: PGHH.NS\n",
      "Processing data for stock: TATAPOWER.NS\n",
      "Processing data for stock: CUMMINSIND.NS\n"
     ]
    },
    {
     "name": "stderr",
     "output_type": "stream",
     "text": [
      "/Users/ayushsharma/anaconda3/lib/python3.6/site-packages/backtester/dataSource/yahoo_data_source.py:182: FutureWarning:\n",
      "\n",
      "set_value is deprecated and will be removed in a future release. Please use .at[] or .iat[] accessors instead\n",
      "\n"
     ]
    },
    {
     "name": "stdout",
     "output_type": "stream",
     "text": [
      "20% done...\n",
      "40% done...\n",
      "60% done...\n",
      "80% done...\n"
     ]
    }
   ],
   "source": [
    "instrumentIds = ['COLPAL.NS','BRITANNIA.NS','DLF.NS','HAVELLS.NS','DABUR.NS','HINDZINC.NS','PIDILITIND.NS','PGHH.NS','TATAPOWER.NS','CUMMINSIND.NS']\n",
    "ds = YahooStockDataSource(cachedFolderName=cachedFolderName,\n",
    "                            dataSetId=dataSetId,\n",
    "                            instrumentIds=instrumentIds,\n",
    "                            startDateStr=startDateStr,\n",
    "                            endDateStr=endDateStr,\n",
    "                            event='history')\n",
    "non_nifty_stock_prices = ds.getBookDataByFeature()['Adj Close']"
   ]
  },
  {
   "cell_type": "code",
   "execution_count": 8,
   "metadata": {},
   "outputs": [],
   "source": [
    "#bse_sensex_prices.shape"
   ]
  },
  {
   "cell_type": "code",
   "execution_count": 9,
   "metadata": {
    "scrolled": true
   },
   "outputs": [],
   "source": [
    "#bse_sensex_prices = bse_sensex_prices[bse_sensex_prices!='null']\n",
    "#bse_sensex_prices.shape"
   ]
  },
  {
   "cell_type": "code",
   "execution_count": 10,
   "metadata": {
    "scrolled": true
   },
   "outputs": [],
   "source": [
    "#bse_sensex_prices.columns"
   ]
  },
  {
   "cell_type": "code",
   "execution_count": 11,
   "metadata": {
    "scrolled": true
   },
   "outputs": [],
   "source": [
    "#bse_sensex_prices"
   ]
  },
  {
   "cell_type": "code",
   "execution_count": 12,
   "metadata": {
    "scrolled": true
   },
   "outputs": [],
   "source": [
    "#bse_sensex_prices.shift(-1)"
   ]
  },
  {
   "cell_type": "code",
   "execution_count": 13,
   "metadata": {},
   "outputs": [],
   "source": [
    "bse_sensex_prices = bse_sensex_prices[bse_sensex_prices!='null']\n",
    "bse_sensex_returns = ((bse_sensex_prices.shift(-1) - bse_sensex_prices)/bse_sensex_prices).dropna().astype('float64')\n",
    "\n",
    "nse_nifty_prices = nse_nifty_prices[nse_nifty_prices!='null']\n",
    "nse_nifty_returns = ((nse_nifty_prices.shift(-1) - nse_nifty_prices)/nse_nifty_prices).dropna().astype('float64')\n",
    "\n",
    "sensex_stock_prices = sensex_stock_prices[sensex_stock_prices!='null']\n",
    "sensex_stock_returns = ((sensex_stock_prices.shift(-1) - sensex_stock_prices)/sensex_stock_prices).dropna().astype('float64')\n",
    "\n",
    "nifty_stock_prices = nifty_stock_prices[nifty_stock_prices!='null']\n",
    "nifty_stock_returns = ((nifty_stock_prices.shift(-1) - nifty_stock_prices)/nifty_stock_prices).dropna().astype('float64')\n",
    "\n",
    "non_sensex_stock_prices = non_sensex_stock_prices[non_sensex_stock_prices!='null']\n",
    "non_sensex_stock_returns = ((non_sensex_stock_prices.shift(-1) - non_sensex_stock_prices)/non_sensex_stock_prices).dropna().astype('float64')\n",
    "\n",
    "non_nifty_stock_prices = non_nifty_stock_prices[non_nifty_stock_prices!='null']\n",
    "non_nifty_stock_returns = ((non_nifty_stock_prices.shift(-1) - non_nifty_stock_prices)/non_nifty_stock_prices).dropna().astype('float64')\n"
   ]
  },
  {
   "cell_type": "code",
   "execution_count": 14,
   "metadata": {},
   "outputs": [
    {
     "name": "stderr",
     "output_type": "stream",
     "text": [
      "/Users/ayushsharma/anaconda3/lib/python3.6/site-packages/ipykernel_launcher.py:1: FutureWarning:\n",
      "\n",
      "reshape is deprecated and will raise in a subsequent release. Please use .values.reshape(...) instead\n",
      "\n",
      "/Users/ayushsharma/anaconda3/lib/python3.6/site-packages/ipykernel_launcher.py:3: FutureWarning:\n",
      "\n",
      "reshape is deprecated and will raise in a subsequent release. Please use .values.reshape(...) instead\n",
      "\n",
      "/Users/ayushsharma/anaconda3/lib/python3.6/site-packages/ipykernel_launcher.py:5: FutureWarning:\n",
      "\n",
      "reshape is deprecated and will raise in a subsequent release. Please use .values.reshape(...) instead\n",
      "\n",
      "/Users/ayushsharma/anaconda3/lib/python3.6/site-packages/ipykernel_launcher.py:7: FutureWarning:\n",
      "\n",
      "reshape is deprecated and will raise in a subsequent release. Please use .values.reshape(...) instead\n",
      "\n",
      "/Users/ayushsharma/anaconda3/lib/python3.6/site-packages/ipykernel_launcher.py:9: FutureWarning:\n",
      "\n",
      "reshape is deprecated and will raise in a subsequent release. Please use .values.reshape(...) instead\n",
      "\n",
      "/Users/ayushsharma/anaconda3/lib/python3.6/site-packages/ipykernel_launcher.py:11: FutureWarning:\n",
      "\n",
      "reshape is deprecated and will raise in a subsequent release. Please use .values.reshape(...) instead\n",
      "\n"
     ]
    }
   ],
   "source": [
    "bse_sensex_mu = (bse_sensex_returns.mean() * 252).reshape(bse_sensex_returns.shape[1],1)\n",
    "\n",
    "nse_nifty_mu = (nse_nifty_returns.mean() * 252).reshape(nse_nifty_returns.shape[1],1)\n",
    "\n",
    "sensex_stock_mu = (sensex_stock_returns.mean() * 252).reshape(sensex_stock_returns.shape[1],1)\n",
    "\n",
    "nifty_stock_mu = (nifty_stock_returns.mean() * 252).reshape(nifty_stock_returns.shape[1],1)\n",
    "\n",
    "non_sensex_stock_mu = (non_sensex_stock_returns.mean() * 252).reshape(non_sensex_stock_returns.shape[1],1)\n",
    "\n",
    "non_nifty_stock_mu = (non_nifty_stock_returns.mean() * 252).reshape(non_nifty_stock_returns.shape[1],1)"
   ]
  },
  {
   "cell_type": "code",
   "execution_count": 15,
   "metadata": {},
   "outputs": [],
   "source": [
    "bse_sensex_var = bse_sensex_returns.var() * 252\n",
    "\n",
    "nse_nifty_var = nse_nifty_returns.var() * 252\n",
    "\n",
    "sensex_stock_cov = sensex_stock_returns.cov() * 252\n",
    "\n",
    "nifty_stock_cov = nifty_stock_returns.cov() * 252\n",
    "\n",
    "non_sensex_stock_cov = non_sensex_stock_returns.cov() * 252\n",
    "\n",
    "non_nifty_stock_cov = non_nifty_stock_returns.cov() * 252"
   ]
  },
  {
   "cell_type": "code",
   "execution_count": 16,
   "metadata": {},
   "outputs": [],
   "source": [
    "mu_v = np.arange(-1,2, 0.001)\n",
    "mu_v = mu_v.reshape(mu_v.shape[0], 1)"
   ]
  },
  {
   "cell_type": "code",
   "execution_count": 17,
   "metadata": {},
   "outputs": [],
   "source": [
    "def port(M, C, mu, flag=None):\n",
    "    unity = np.ones(M.shape[0]).reshape(M.shape[0],1)\n",
    "    \n",
    "    a = np.dot(np.dot(unity.T,np.linalg.inv(C)),unity)[0,0]\n",
    "    b = np.dot(np.dot(unity.T,np.linalg.inv(C)),M)[0,0]\n",
    "    c = np.dot(np.dot(M.T,np.linalg.inv(C)),M)[0,0]\n",
    "    Del = (a*c) - (b**2)\n",
    "    \n",
    "    var = (((a*(mu**2)) - (2*b*mu) + c)/Del)\n",
    "    \n",
    "    l1 = (c - b*mu)/Del\n",
    "    l2 = (a*mu - b)/Del\n",
    "\n",
    "    W = np.dot(np.linalg.inv(C),(unity*l1.T + M*l2.T)).T\n",
    "    \n",
    "    if flag=='NS':#signifying no short allowed\n",
    "        ns = ((W>=0).all(axis=1)) * (W.sum(axis=1) <= 1)\n",
    "        \n",
    "        W = W[ns,:]\n",
    "        var = var[ns,:]\n",
    "        mu = mu[ns,:]\n",
    "    \n",
    "    return(W, var, mu)"
   ]
  },
  {
   "cell_type": "code",
   "execution_count": null,
   "metadata": {},
   "outputs": [],
   "source": []
  },
  {
   "cell_type": "code",
   "execution_count": null,
   "metadata": {},
   "outputs": [],
   "source": []
  },
  {
   "cell_type": "code",
   "execution_count": null,
   "metadata": {},
   "outputs": [],
   "source": []
  },
  {
   "cell_type": "code",
   "execution_count": null,
   "metadata": {},
   "outputs": [],
   "source": []
  },
  {
   "cell_type": "code",
   "execution_count": null,
   "metadata": {},
   "outputs": [],
   "source": []
  },
  {
   "cell_type": "code",
   "execution_count": null,
   "metadata": {},
   "outputs": [],
   "source": []
  },
  {
   "cell_type": "code",
   "execution_count": null,
   "metadata": {},
   "outputs": [],
   "source": []
  },
  {
   "cell_type": "code",
   "execution_count": 18,
   "metadata": {},
   "outputs": [],
   "source": [
    "beta_m = 1\n",
    "rf = 0.05"
   ]
  },
  {
   "cell_type": "code",
   "execution_count": 19,
   "metadata": {},
   "outputs": [],
   "source": [
    "beta_ss = (pd.concat([bse_sensex_returns,sensex_stock_returns],axis=1).cov()['^BSESN'].iloc[1:]) / (bse_sensex_returns.var()[0])\n",
    "beta_nss = (pd.concat([bse_sensex_returns,non_sensex_stock_returns],axis=1).cov()['^BSESN'].iloc[1:]) / (bse_sensex_returns.var()[0])\n",
    "\n",
    "beta_ns = (pd.concat([nse_nifty_returns,nifty_stock_returns],axis=1).cov()['^NSEI'].iloc[1:]) / (nse_nifty_returns.var()[0])\n",
    "beta_nns = (pd.concat([nse_nifty_returns,non_nifty_stock_returns],axis=1).cov()['^NSEI'].iloc[1:]) / (nse_nifty_returns.var()[0])\n"
   ]
  },
  {
   "cell_type": "code",
   "execution_count": 68,
   "metadata": {},
   "outputs": [],
   "source": [
    "beta_sml = np.arange(-0.1, 3, 0.001)\n",
    "beta_sml = beta_sml.reshape(beta_sml.shape[0],1)\n",
    "\n",
    "mu_sml_bs = rf + (bse_sensex_mu - rf)*beta_sml\n",
    "\n",
    "mu_sml_nn = rf + (nse_nifty_mu - rf)*beta_sml"
   ]
  },
  {
   "cell_type": "code",
   "execution_count": null,
   "metadata": {},
   "outputs": [],
   "source": []
  },
  {
   "cell_type": "code",
   "execution_count": 69,
   "metadata": {},
   "outputs": [
    {
     "data": {
      "image/png": "[encoded data removed]",
      "text/plain": [
       "<matplotlib.figure.Figure at 0x115c97320>"
      ]
     },
     "metadata": {},
     "output_type": "display_data"
    }
   ],
   "source": [
    "plt.plot(beta_ss,sensex_stock_mu, '*')\n",
    "plt.plot(beta_nss,non_sensex_stock_mu, '*')\n",
    "plt.plot(beta_sml,mu_sml_bs)\n",
    "plt.plot(beta_m,bse_sensex_mu, '*')\n",
    "plt.plot(0,rf, '*')\n",
    "plt.title(\"Portfolio Management - BSE SENSEX\")\n",
    "plt.xlabel(\"Systematic Risk (Beta)\")\n",
    "plt.ylabel(\"Expected Return (Mu)\")\n",
    "\n",
    "plt.legend([\"Assets in index\",\"Assets not in index\",\"Security Market Line\", \"Market portfolio\\n(BSE SENSEX)\", \"Risk-free security\"])\n",
    "plt.show()"
   ]
  },
  {
   "cell_type": "code",
   "execution_count": 70,
   "metadata": {},
   "outputs": [
    {
     "data": {
      "image/png": "[encoded data removed]",
      "text/plain": [
       "<matplotlib.figure.Figure at 0x1166a4780>"
      ]
     },
     "metadata": {},
     "output_type": "display_data"
    }
   ],
   "source": [
    "plt.plot(beta_ns,nifty_stock_mu, '*')\n",
    "plt.plot(beta_nns,non_nifty_stock_mu, '*')\n",
    "plt.plot(beta_sml,mu_sml_nn)\n",
    "plt.plot(beta_m,nse_nifty_mu, '*')\n",
    "plt.plot(0,rf, '*')\n",
    "plt.title(\"Portfolio Management - NSE NIFTY 50\")\n",
    "plt.xlabel(\"Systematic Risk (Beta)\")\n",
    "plt.ylabel(\"Expected Return (Mu)\")\n",
    "\n",
    "plt.legend([\"Assets in index\",\"Assets not in index\",\"Security Market Line\", \"Market portfolio\\n(NSE NIFTY 50)\", \"Risk-free security\"])\n",
    "plt.show()"
   ]
  },
  {
   "cell_type": "code",
   "execution_count": null,
   "metadata": {},
   "outputs": [],
   "source": []
  },
  {
   "cell_type": "code",
   "execution_count": null,
   "metadata": {},
   "outputs": [],
   "source": []
  },
  {
   "cell_type": "code",
   "execution_count": 26,
   "metadata": {},
   "outputs": [
    {
     "data": {
      "text/plain": [
       "Index(['SBIN.BO', 'TATASTEEL.BO', 'LT.BO', 'RELIANCE.BO', 'INFY.BO',\n",
       "       'BHARTIARTL.BO', 'TCS.BO', 'TATAMOTORS.BO', 'SUNPHARMA.BO', 'ITC.BO'],\n",
       "      dtype='object')"
      ]
     },
     "execution_count": 26,
     "metadata": {},
     "output_type": "execute_result"
    }
   ],
   "source": [
    "beta_ss.index"
   ]
  },
  {
   "cell_type": "code",
   "execution_count": 29,
   "metadata": {},
   "outputs": [
    {
     "data": {
      "text/plain": [
       "SBIN.BO          1.28\n",
       "TATASTEEL.BO     1.36\n",
       "LT.BO            1.38\n",
       "RELIANCE.BO      1.12\n",
       "INFY.BO          0.69\n",
       "BHARTIARTL.BO    0.55\n",
       "TCS.BO           0.58\n",
       "TATAMOTORS.BO    1.41\n",
       "SUNPHARMA.BO     0.63\n",
       "ITC.BO           0.64\n",
       "dtype: float64"
      ]
     },
     "execution_count": 29,
     "metadata": {},
     "output_type": "execute_result"
    }
   ],
   "source": [
    "#S&P SENSEX scrips for July-2014 to June-2015\n",
    "beta_true_ss = pd.Series(data={'SBIN.BO':1.28,\n",
    "                               'TATASTEEL.BO':1.36,\n",
    "                               'LT.BO':1.38,\n",
    "                               'RELIANCE.BO':1.12,\n",
    "                               'INFY.BO':0.69,\n",
    "                               'BHARTIARTL.BO':0.55,\n",
    "                               'TCS.BO':0.58,\n",
    "                               'TATAMOTORS.BO':1.41,\n",
    "                               'SUNPHARMA.BO':0.63,\n",
    "                               'ITC.BO':0.64},\n",
    "                        index=beta_ss.index)\n",
    "beta_true_ss"
   ]
  },
  {
   "cell_type": "code",
   "execution_count": null,
   "metadata": {},
   "outputs": [],
   "source": []
  },
  {
   "cell_type": "code",
   "execution_count": null,
   "metadata": {},
   "outputs": [],
   "source": []
  }
 ],
 "metadata": {
  "kernelspec": {
   "display_name": "Python 3",
   "language": "python",
   "name": "python3"
  },
  "language_info": {
   "codemirror_mode": {
    "name": "ipython",
    "version": 3
   },
   "file_extension": ".py",
   "mimetype": "text/x-python",
   "name": "python",
   "nbconvert_exporter": "python",
   "pygments_lexer": "ipython3",
   "version": "3.6.4"
  }
 },
 "nbformat": 4,
 "nbformat_minor": 2
}
