{
 "cells": [
  {
   "cell_type": "code",
   "execution_count": 1,
   "metadata": {},
   "outputs": [],
   "source": [
    "import numpy as np\n",
    "import matplotlib.pyplot as plt"
   ]
  },
  {
   "cell_type": "code",
   "execution_count": 2,
   "metadata": {},
   "outputs": [],
   "source": [
    "M = np.array([0.1, 0.2, 0.15]).reshape(3,1)"
   ]
  },
  {
   "cell_type": "code",
   "execution_count": 96,
   "metadata": {},
   "outputs": [
    {
     "data": {
      "text/plain": [
       "(3, 1)"
      ]
     },
     "execution_count": 96,
     "metadata": {},
     "output_type": "execute_result"
    }
   ],
   "source": [
    "M.shape"
   ]
  },
  {
   "cell_type": "code",
   "execution_count": 4,
   "metadata": {},
   "outputs": [],
   "source": [
    "#M"
   ]
  },
  {
   "cell_type": "code",
   "execution_count": 5,
   "metadata": {},
   "outputs": [],
   "source": [
    "C = np.array([[0.005, -0.010, 0.004],\n",
    "              [-0.010, 0.040, -0.002],\n",
    "              [0.004, -0.002, 0.023]])"
   ]
  },
  {
   "cell_type": "code",
   "execution_count": 97,
   "metadata": {},
   "outputs": [
    {
     "data": {
      "text/plain": [
       "(3, 3)"
      ]
     },
     "execution_count": 97,
     "metadata": {},
     "output_type": "execute_result"
    }
   ],
   "source": [
    "C.shape"
   ]
  },
  {
   "cell_type": "code",
   "execution_count": 7,
   "metadata": {},
   "outputs": [],
   "source": [
    "#C"
   ]
  },
  {
   "cell_type": "code",
   "execution_count": 8,
   "metadata": {},
   "outputs": [],
   "source": [
    "#M.T.shape"
   ]
  },
  {
   "cell_type": "code",
   "execution_count": null,
   "metadata": {},
   "outputs": [],
   "source": []
  },
  {
   "cell_type": "code",
   "execution_count": null,
   "metadata": {},
   "outputs": [],
   "source": []
  },
  {
   "cell_type": "code",
   "execution_count": 9,
   "metadata": {},
   "outputs": [],
   "source": [
    "mu_v = np.arange(-.1,.4, 0.0001)\n",
    "mu_v = mu_v.reshape(mu_v.shape[0], 1)"
   ]
  },
  {
   "cell_type": "code",
   "execution_count": 10,
   "metadata": {},
   "outputs": [
    {
     "data": {
      "text/plain": [
       "(5000, 1)"
      ]
     },
     "execution_count": 10,
     "metadata": {},
     "output_type": "execute_result"
    }
   ],
   "source": [
    "mu_v.shape"
   ]
  },
  {
   "cell_type": "code",
   "execution_count": null,
   "metadata": {},
   "outputs": [],
   "source": []
  },
  {
   "cell_type": "code",
   "execution_count": 82,
   "metadata": {},
   "outputs": [],
   "source": [
    "def port(M, C, mu, flag=None):\n",
    "    unity = np.ones(M.shape[0]).reshape(M.shape[0],1)\n",
    "    \n",
    "    a = np.dot(np.dot(unity.T,np.linalg.inv(C)),unity)[0,0]\n",
    "    b = np.dot(np.dot(unity.T,np.linalg.inv(C)),M)[0,0]\n",
    "    c = np.dot(np.dot(M.T,np.linalg.inv(C)),M)[0,0]\n",
    "    Del = (a*c) - (b**2)\n",
    "    \n",
    "    var = (((a*(mu**2)) - (2*b*mu) + c)/Del)\n",
    "    \n",
    "    l1 = (c - b*mu)/Del\n",
    "    l2 = (a*mu - b)/Del\n",
    "\n",
    "    W = np.dot(np.linalg.inv(C),(unity*l1.T + M*l2.T)).T\n",
    "    \n",
    "    if flag=='NS':#signifying no short allowed\n",
    "        ns = ((W>=0).all(axis=1)) * (W.sum(axis=1) <= 1)\n",
    "        \n",
    "        W = W[ns,:]\n",
    "        var = var[ns,:]\n",
    "        mu = mu[ns,:]\n",
    "    \n",
    "    return(W, var, mu)"
   ]
  },
  {
   "cell_type": "code",
   "execution_count": 12,
   "metadata": {},
   "outputs": [],
   "source": [
    "#unity = np.ones(M.shape[0]).reshape(M.shape[0],1)"
   ]
  },
  {
   "cell_type": "code",
   "execution_count": 13,
   "metadata": {},
   "outputs": [],
   "source": [
    "#unity.shape"
   ]
  },
  {
   "cell_type": "code",
   "execution_count": 14,
   "metadata": {},
   "outputs": [],
   "source": [
    "# a = np.dot(np.dot(unity.T,np.linalg.inv(C)),unity)[0,0]\n",
    "# b = np.dot(np.dot(unity.T,np.linalg.inv(C)),M)[0,0]\n",
    "# c = np.dot(np.dot(M.T,np.linalg.inv(C)),M)[0,0]\n",
    "# Del = (a*c) - (b**2)\n",
    "\n",
    "# var_v = (((a*(mu_v**2)) - (2*b*mu_v) + c)/Del)\n",
    "\n",
    "# #sigma_v = np.sqrt(var)"
   ]
  },
  {
   "cell_type": "code",
   "execution_count": 15,
   "metadata": {},
   "outputs": [],
   "source": [
    "#sigma_v.shape"
   ]
  },
  {
   "cell_type": "code",
   "execution_count": 16,
   "metadata": {},
   "outputs": [],
   "source": [
    "# l1 = (c - b*mu_v)/Del\n",
    "# l2 = (a*mu_v - b)/Del\n",
    "\n",
    "# W = np.dot(np.linalg.inv(C),(unity*l1.T + M*l2.T)).T"
   ]
  },
  {
   "cell_type": "code",
   "execution_count": 17,
   "metadata": {
    "scrolled": true
   },
   "outputs": [],
   "source": [
    "#W[range(101,301,20),:].shape"
   ]
  },
  {
   "cell_type": "code",
   "execution_count": 18,
   "metadata": {},
   "outputs": [],
   "source": [
    "#W[range(101,301,20),:]"
   ]
  },
  {
   "cell_type": "code",
   "execution_count": 19,
   "metadata": {
    "scrolled": true
   },
   "outputs": [],
   "source": [
    "#print(\"W\\n\",W[range(101,301,20),:])\n",
    "#print(\"mu_v\\n\",mu_v[range(101,301,20),:])\n",
    "#print(\"sigma_v\\n\",sigma_v[range(101,301,20),:])"
   ]
  },
  {
   "cell_type": "code",
   "execution_count": 20,
   "metadata": {},
   "outputs": [],
   "source": [
    "# zero = np.array([0,0,0]).reshape(1,3)\n",
    "# zero"
   ]
  },
  {
   "cell_type": "code",
   "execution_count": 21,
   "metadata": {},
   "outputs": [],
   "source": [
    "#one = np.array([1,1,1]).reshape(1,3)\n",
    "#one"
   ]
  },
  {
   "cell_type": "code",
   "execution_count": 22,
   "metadata": {
    "scrolled": true
   },
   "outputs": [],
   "source": [
    "# ns = np.greater_equal(W, zero)#*np.less_equal(W, one)\n",
    "# ns = ns[:,0]*ns[:,1]*ns[:,2]\n",
    "# ns"
   ]
  },
  {
   "cell_type": "code",
   "execution_count": 23,
   "metadata": {},
   "outputs": [],
   "source": [
    "# W_ns = W[ns,:]\n",
    "# #W_ns"
   ]
  },
  {
   "cell_type": "code",
   "execution_count": null,
   "metadata": {},
   "outputs": [],
   "source": []
  },
  {
   "cell_type": "code",
   "execution_count": null,
   "metadata": {},
   "outputs": [],
   "source": []
  },
  {
   "cell_type": "code",
   "execution_count": 24,
   "metadata": {},
   "outputs": [],
   "source": [
    "n01, n12, n02 = np.array([0,1]), np.array([1,2]), np.array([0,2])"
   ]
  },
  {
   "cell_type": "code",
   "execution_count": 25,
   "metadata": {},
   "outputs": [],
   "source": [
    "M01, M12, M02 = M[n01], M[n12], M[n02]\n",
    "\n",
    "C01, C12, C02 = C[n01,:][:,n01], C[n12,:][:,n12], C[n02,:][:,n02]"
   ]
  },
  {
   "cell_type": "code",
   "execution_count": 26,
   "metadata": {},
   "outputs": [
    {
     "name": "stdout",
     "output_type": "stream",
     "text": [
      "[[0.1]\n",
      " [0.2]] [[0.2 ]\n",
      " [0.15]] [[0.1 ]\n",
      " [0.15]]\n",
      "[[ 0.005 -0.01 ]\n",
      " [-0.01   0.04 ]] [[ 0.04  -0.002]\n",
      " [-0.002  0.023]] [[0.005 0.004]\n",
      " [0.004 0.023]]\n"
     ]
    }
   ],
   "source": [
    "print(M01, M12, M02)\n",
    "print(C01, C12, C02)"
   ]
  },
  {
   "cell_type": "code",
   "execution_count": 27,
   "metadata": {},
   "outputs": [],
   "source": [
    "#M01.shape"
   ]
  },
  {
   "cell_type": "code",
   "execution_count": null,
   "metadata": {},
   "outputs": [],
   "source": []
  },
  {
   "cell_type": "code",
   "execution_count": null,
   "metadata": {},
   "outputs": [],
   "source": []
  },
  {
   "cell_type": "code",
   "execution_count": null,
   "metadata": {},
   "outputs": [],
   "source": []
  },
  {
   "cell_type": "code",
   "execution_count": 156,
   "metadata": {},
   "outputs": [
    {
     "data": {
      "text/plain": [
       "(10000, 3)"
      ]
     },
     "execution_count": 156,
     "metadata": {},
     "output_type": "execute_result"
    }
   ],
   "source": [
    "W_f = np.random.uniform(size=(10000,3))\n",
    "W_f = W_f/W_f.sum(axis=1).reshape(W_f.shape[0],1)\n",
    "\n",
    "W_f.shape"
   ]
  },
  {
   "cell_type": "code",
   "execution_count": 157,
   "metadata": {},
   "outputs": [],
   "source": [
    "mu_f = np.dot(W_f,M)\n",
    "\n",
    "var_f = np.diag(np.dot(np.dot(W_f,C),W_f.T))"
   ]
  },
  {
   "cell_type": "code",
   "execution_count": 158,
   "metadata": {},
   "outputs": [
    {
     "name": "stdout",
     "output_type": "stream",
     "text": [
      "(10000, 1) (10000,)\n"
     ]
    }
   ],
   "source": [
    "print(mu_f.shape, var_f.shape)"
   ]
  },
  {
   "cell_type": "code",
   "execution_count": null,
   "metadata": {},
   "outputs": [],
   "source": []
  },
  {
   "cell_type": "code",
   "execution_count": 201,
   "metadata": {},
   "outputs": [
    {
     "data": {
      "image/png": "[encoded data removed]",
      "text/plain": [
       "<matplotlib.figure.Figure at 0x10b6cc940>"
      ]
     },
     "metadata": {},
     "output_type": "display_data"
    }
   ],
   "source": [
    "plt.plot(np.diag(C),M, 'o')\n",
    "#plt.plot(var_v[ns,:], mu_v[ns,:], '.')\n",
    "\n",
    "plt.plot(var_f, mu_f, '.', alpha=0.05)\n",
    "\n",
    "P01_NS = port(M01, C01, mu_v, flag='NS')\n",
    "#plt.plot(P01_NS[1], P01_NS[2], '.')\n",
    "plt.plot(P01_NS[1], P01_NS[2])\n",
    "P12_NS = port(M12, C12, mu_v, flag='NS')\n",
    "#plt.plot(P12_NS[1], P12_NS[2], '.')\n",
    "plt.plot(P12_NS[1], P12_NS[2])\n",
    "P02_NS = port(M02, C02, mu_v, flag='NS')\n",
    "#plt.plot(P02_NS[1], P02_NS[2], '.')\n",
    "plt.plot(P02_NS[1], P02_NS[2])\n",
    "\n",
    "P_NS = port(M, C, mu_v, flag='NS')\n",
    "#plt.plot(P_NS[1], P_NS[2], '.')\n",
    "plt.plot(P_NS[1], P_NS[2], c='black', lw=2.5)\n",
    "\n",
    "\n",
    "#plt.plot(np.full((sigma_v.shape), 0.15), mu_v)\n",
    "#plt.plot(sigma_v, np.full((mu_v.shape), 0.18))\n",
    "#plt.plot(sigma_m,mu_m, '*')\n",
    "#plt.plot(0,rf, '*')\n",
    "#plt.plot(sigma_cml,mu_cml)\n",
    "plt.title(\"Portfolio Management\")\n",
    "plt.xlabel(\"Risk (Variance)\")\n",
    "plt.ylabel(\"Return (Mean)\")\n",
    "\n",
    "plt.legend([\"Assets\",\"Feasible region\", \"Min risk curve_12\", \"Min risk curve_23\", \"Min risk curve_13\", \"Min Variance Curve\\n(& efficient frontier)\"])\n",
    "plt.show()"
   ]
  },
  {
   "cell_type": "code",
   "execution_count": 176,
   "metadata": {},
   "outputs": [
    {
     "data": {
      "image/png": "[encoded data removed]",
      "text/plain": [
       "<matplotlib.figure.Figure at 0x10bbb3b38>"
      ]
     },
     "metadata": {},
     "output_type": "display_data"
    }
   ],
   "source": [
    "plt.plot(P_NS[0])\n",
    "plt.show()"
   ]
  },
  {
   "cell_type": "code",
   "execution_count": 228,
   "metadata": {},
   "outputs": [
    {
     "data": {
      "text/plain": [
       "Text(0.5,0,'Asset 3')"
      ]
     },
     "execution_count": 228,
     "metadata": {},
     "output_type": "execute_result"
    },
    {
     "data": {
      "image/png": "[encoded data removed]",
      "text/plain": [
       "<matplotlib.figure.Figure at 0x10b3de470>"
      ]
     },
     "metadata": {},
     "output_type": "display_data"
    }
   ],
   "source": [
    "import mpl_toolkits.mplot3d as Axes3D\n",
    "\n",
    "fig = plt.figure()\n",
    "ax = plt.axes(projection='3d')\n",
    "ax.plot3D(P_NS[0][:,0],P_NS[0][:,1],P_NS[0][:,2])\n",
    "\n",
    "plt.title(\"Portfolio Weight Distribution\")\n",
    "ax.set_xlabel('Asset 1')\n",
    "ax.set_ylabel('Asset 2')\n",
    "ax.set_zlabel('Asset 3')"
   ]
  },
  {
   "cell_type": "code",
   "execution_count": 226,
   "metadata": {},
   "outputs": [
    {
     "data": {
      "text/plain": [
       "array([0.32638532, 0.43438532, 0.23922936])"
      ]
     },
     "execution_count": 226,
     "metadata": {},
     "output_type": "execute_result"
    }
   ],
   "source": [
    "point = P_NS[0][np.argmin(np.sum(np.square(P_NS[0]),axis=1)),:]\n",
    "point"
   ]
  },
  {
   "cell_type": "code",
   "execution_count": 227,
   "metadata": {},
   "outputs": [
    {
     "data": {
      "text/plain": [
       "array([ 0.81083009, -0.32225298, -0.4885771 ])"
      ]
     },
     "execution_count": 227,
     "metadata": {},
     "output_type": "execute_result"
    }
   ],
   "source": [
    "direction = (P_NS[0][0,:]-point)\n",
    "direction = direction/np.sqrt(np.sum(np.square(direction)))\n",
    "direction"
   ]
  },
  {
   "cell_type": "code",
   "execution_count": 225,
   "metadata": {},
   "outputs": [
    {
     "data": {
      "text/plain": [
       "1.0000000000000002"
      ]
     },
     "execution_count": 225,
     "metadata": {},
     "output_type": "execute_result"
    }
   ],
   "source": [
    "np.sum(np.square(direction))"
   ]
  },
  {
   "cell_type": "code",
   "execution_count": null,
   "metadata": {},
   "outputs": [],
   "source": []
  },
  {
   "cell_type": "code",
   "execution_count": null,
   "metadata": {},
   "outputs": [],
   "source": []
  },
  {
   "cell_type": "code",
   "execution_count": 192,
   "metadata": {},
   "outputs": [
    {
     "data": {
      "text/plain": [
       "(108, 3)"
      ]
     },
     "execution_count": 192,
     "metadata": {},
     "output_type": "execute_result"
    }
   ],
   "source": [
    "P_NS[0].shape"
   ]
  },
  {
   "cell_type": "code",
   "execution_count": 190,
   "metadata": {},
   "outputs": [
    {
     "data": {
      "text/plain": [
       "(108,)"
      ]
     },
     "execution_count": 190,
     "metadata": {},
     "output_type": "execute_result"
    }
   ],
   "source": [
    "np.sum(np.square(P_NS[0]),axis=1).shape"
   ]
  },
  {
   "cell_type": "code",
   "execution_count": 180,
   "metadata": {},
   "outputs": [],
   "source": [
    "#r = np.random.uniform(size=(20,1))"
   ]
  },
  {
   "cell_type": "code",
   "execution_count": 181,
   "metadata": {},
   "outputs": [],
   "source": [
    "#r.prod(axis=1)==r[:,0]*r[:,1]"
   ]
  },
  {
   "cell_type": "code",
   "execution_count": 182,
   "metadata": {},
   "outputs": [],
   "source": [
    "#r.prod(axis=1)"
   ]
  },
  {
   "cell_type": "code",
   "execution_count": 183,
   "metadata": {},
   "outputs": [],
   "source": [
    "#np.concatenate([r,r,r],axis=0).shape"
   ]
  },
  {
   "cell_type": "code",
   "execution_count": null,
   "metadata": {},
   "outputs": [],
   "source": []
  },
  {
   "cell_type": "code",
   "execution_count": null,
   "metadata": {},
   "outputs": [],
   "source": []
  }
 ],
 "metadata": {
  "kernelspec": {
   "display_name": "Python 3",
   "language": "python",
   "name": "python3"
  },
  "language_info": {
   "codemirror_mode": {
    "name": "ipython",
    "version": 3
   },
   "file_extension": ".py",
   "mimetype": "text/x-python",
   "name": "python",
   "nbconvert_exporter": "python",
   "pygments_lexer": "ipython3",
   "version": "3.6.4"
  }
 },
 "nbformat": 4,
 "nbformat_minor": 2
}
